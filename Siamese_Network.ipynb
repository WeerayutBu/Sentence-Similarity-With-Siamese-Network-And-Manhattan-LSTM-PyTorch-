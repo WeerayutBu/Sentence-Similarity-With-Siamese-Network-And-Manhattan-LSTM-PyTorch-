{
  "nbformat": 4,
  "nbformat_minor": 0,
  "metadata": {
    "colab": {
      "name": "Siamese Network",
      "version": "0.3.2",
      "provenance": [],
      "include_colab_link": true
    },
    "kernelspec": {
      "name": "python3",
      "display_name": "Python 3"
    },
    "accelerator": "GPU"
  },
  "cells": [
    {
      "cell_type": "markdown",
      "metadata": {
        "id": "view-in-github",
        "colab_type": "text"
      },
      "source": [
        "<a href=\"https://colab.research.google.com/github/mabdullah1994/deep-learning/blob/master/Siamese_Network.ipynb\" target=\"_parent\"><img src=\"https://colab.research.google.com/assets/colab-badge.svg\" alt=\"Open In Colab\"/></a>"
      ]
    },
    {
      "cell_type": "code",
      "metadata": {
        "id": "0vQ7BJWbscL8",
        "colab_type": "code",
        "outputId": "1d512307-6feb-4ab7-fa75-10739ceb4ce5",
        "colab": {
          "base_uri": "https://localhost:8080/",
          "height": 33
        }
      },
      "source": [
        "import numpy as np # linear algebra\n",
        "import pandas as pd # data processing, CSV file I/O (e.g. pd.read_csv)\n",
        "import re\n",
        "from nltk.corpus import stopwords\n",
        "from nltk.stem import SnowballStemmer\n",
        "import string\n",
        "from string import punctuation\n",
        "\n",
        "import torch\n",
        "import gensim\n",
        "import torch.nn as nn\n",
        "from torch import optim\n",
        "import torch.nn.functional as F\n",
        "from torch.utils.data import Dataset, DataLoader, SubsetRandomSampler, WeightedRandomSampler\n",
        "from torch.autograd import Variable\n",
        "\n",
        "# Ignore warnings\n",
        "import warnings\n",
        "warnings.filterwarnings(\"ignore\")\n",
        "device = torch.device(\"cuda:0\" if torch.cuda.is_available() else \"cpu\")\n",
        "\n",
        "print ('Device: ', device)"
      ],
      "execution_count": 1,
      "outputs": [
        {
          "output_type": "stream",
          "text": [
            "Device:  cuda:0\n"
          ],
          "name": "stdout"
        }
      ]
    },
    {
      "cell_type": "markdown",
      "metadata": {
        "id": "0ods4Q-Mu6I_",
        "colab_type": "text"
      },
      "source": [
        "**Global Variables**"
      ]
    },
    {
      "cell_type": "code",
      "metadata": {
        "id": "WFa9NaC3uXYX",
        "colab_type": "code",
        "colab": {}
      },
      "source": [
        "ROOT_PATH = '/content/drive/My Drive/QuoraQuestionsSimilarity/'\n",
        "TRAIN_FILE_PATH = ROOT_PATH + 'train.csv'\n",
        "EMBEDDING_PATH = '/content/drive/My Drive/GoogleNews-vectors-negative300.bin'\n",
        "EMBEDDING_DIMENSION = 300\n",
        "EMBEDDING_REQUIRES_GRAD = False\n",
        "HIDDEN_CELLS = 50\n",
        "NUM_LAYERS = 1"
      ],
      "execution_count": 0,
      "outputs": []
    },
    {
      "cell_type": "markdown",
      "metadata": {
        "id": "PZR1adlgvJ-H",
        "colab_type": "text"
      },
      "source": [
        "**Load Train File and check the distribution of Duplicate Questions**"
      ]
    },
    {
      "cell_type": "code",
      "metadata": {
        "id": "d-Tq65kMu3MT",
        "colab_type": "code",
        "outputId": "f2eb5f27-e95b-42a3-8fe8-ab1aecf3baf4",
        "colab": {
          "base_uri": "https://localhost:8080/",
          "height": 33
        }
      },
      "source": [
        "df_train = pd.read_csv(TRAIN_FILE_PATH)\n",
        "print ('Percentage of Duplicate Questions Pair: ', df_train['is_duplicate'].mean() * 100)"
      ],
      "execution_count": 19,
      "outputs": [
        {
          "output_type": "stream",
          "text": [
            "Percentage of Duplicate Questions Pair:  36.9197853026293\n"
          ],
          "name": "stdout"
        }
      ]
    },
    {
      "cell_type": "markdown",
      "metadata": {
        "id": "TbxRoVYfPvkH",
        "colab_type": "text"
      },
      "source": [
        "**Data Cleansing**"
      ]
    },
    {
      "cell_type": "code",
      "metadata": {
        "id": "vQplM1Wuvb0y",
        "colab_type": "code",
        "colab": {}
      },
      "source": [
        "# The function \"text_to_wordlist\" is from\n",
        "# https://www.kaggle.com/currie32/quora-question-pairs/the-importance-of-cleaning-text\n",
        "def text_to_wordlist(text, remove_stopwords=False, stem_words=False):\n",
        "    # Clean the text, with the option to remove stopwords and to stem words.\n",
        "    # Convert words to lower case and split them\n",
        "    text = text.lower().split()\n",
        "\n",
        "    # Optionally, remove stop words\n",
        "    if remove_stopwords:\n",
        "        stops = set(stopwords.words(\"english\"))\n",
        "        text = [w for w in text if not w in stops]\n",
        "    \n",
        "    text = \" \".join(text)\n",
        "\n",
        "    # Clean the text\n",
        "    text = re.sub(r\"[^A-Za-z0-9^,!.\\/'+-=]\", \" \", text)\n",
        "    text = re.sub(r\"what's\", \"what is \", text)\n",
        "    text = re.sub(r\"\\'s\", \" \", text)\n",
        "    text = re.sub(r\"\\'ve\", \" have \", text)\n",
        "    text = re.sub(r\"can't\", \"cannot \", text)\n",
        "    text = re.sub(r\"n't\", \" not \", text)\n",
        "    text = re.sub(r\"i'm\", \"i am \", text)\n",
        "    text = re.sub(r\"\\'re\", \" are \", text)\n",
        "    text = re.sub(r\"\\'d\", \" would \", text)\n",
        "    text = re.sub(r\"\\'ll\", \" will \", text)\n",
        "    text = re.sub(r\",\", \" \", text)\n",
        "    text = re.sub(r\"\\.\", \" \", text)\n",
        "    text = re.sub(r\"!\", \" ! \", text)\n",
        "    text = re.sub(r\"\\/\", \" \", text)\n",
        "    text = re.sub(r\"\\^\", \" ^ \", text)\n",
        "    text = re.sub(r\"\\+\", \" + \", text)\n",
        "    text = re.sub(r\"\\-\", \" - \", text)\n",
        "    text = re.sub(r\"\\=\", \" = \", text)\n",
        "    text = re.sub(r\"'\", \" \", text)\n",
        "    text = re.sub(r\"(\\d+)(k)\", r\"\\g<1>000\", text)\n",
        "    text = re.sub(r\":\", \" : \", text)\n",
        "    text = re.sub(r\" e g \", \" eg \", text)\n",
        "    text = re.sub(r\" b g \", \" bg \", text)\n",
        "    text = re.sub(r\" u s \", \" american \", text)\n",
        "    text = re.sub(r\"\\0s\", \"0\", text)\n",
        "    text = re.sub(r\" 9 11 \", \"911\", text)\n",
        "    text = re.sub(r\"e - mail\", \"email\", text)\n",
        "    text = re.sub(r\"j k\", \"jk\", text)\n",
        "    text = re.sub(r\"\\s{2,}\", \" \", text)\n",
        "    \n",
        "    # Optionally, shorten words to their stems\n",
        "    if stem_words:\n",
        "        text = text.split()\n",
        "        stemmer = SnowballStemmer('english')\n",
        "        stemmed_words = [stemmer.stem(word) for word in text]\n",
        "        text = \" \".join(stemmed_words)\n",
        "    \n",
        "    # Return a list of words\n",
        "    text = text.strip()\n",
        "    return text"
      ],
      "execution_count": 0,
      "outputs": []
    },
    {
      "cell_type": "markdown",
      "metadata": {
        "id": "IjVhpVA-P0R6",
        "colab_type": "text"
      },
      "source": [
        "**Convert train data into list of tuples where each tuple is of the form (question1, question2)**"
      ]
    },
    {
      "cell_type": "code",
      "metadata": {
        "id": "InlnbLqtJMNn",
        "colab_type": "code",
        "outputId": "d24ec85f-b47d-4fb0-8315-cb0c5fc798e0",
        "colab": {
          "base_uri": "https://localhost:8080/",
          "height": 33
        }
      },
      "source": [
        "train_questions_pair = []\n",
        "train_labels = []\n",
        "for _, row in df_train.iterrows():\n",
        "    \n",
        "    q1 = text_to_wordlist(str(row['question1']))\n",
        "    q2 = text_to_wordlist(str(row['question2']))\n",
        "    label = int(row['is_duplicate'])\n",
        "    if q1 and q2:\n",
        "        train_questions_pair.append((\n",
        "                q1, q2\n",
        "            ))\n",
        "        train_labels.append(label)\n",
        "\n",
        "print ('Train Data Question Pairs: ', len(train_questions_pair))\n"
      ],
      "execution_count": 21,
      "outputs": [
        {
          "output_type": "stream",
          "text": [
            "Train Data Question Pairs:  404270\n"
          ],
          "name": "stdout"
        }
      ]
    },
    {
      "cell_type": "markdown",
      "metadata": {
        "id": "JJQ41TV1P-pe",
        "colab_type": "text"
      },
      "source": [
        "**Create a Language class that will keep track of the dataset vocabulary and corresponding indices**"
      ]
    },
    {
      "cell_type": "code",
      "metadata": {
        "id": "BCVIxW8yJ86O",
        "colab_type": "code",
        "colab": {}
      },
      "source": [
        "class Language:\n",
        "    def __init__(self):\n",
        "        self.word2index = {}\n",
        "        self.word2count = {}\n",
        "        self.index2word = {}\n",
        "        self.n_words = 0\n",
        "\n",
        "    def addSentence(self, sentence):\n",
        "        for word in sentence.split(' '):\n",
        "            self.addWord(word)\n",
        "\n",
        "    def addWord(self, word):\n",
        "        if word not in self.word2index:\n",
        "            self.word2index[word] = self.n_words + 1\n",
        "            self.word2count[word] = 1\n",
        "            self.index2word[self.n_words + 1] = word\n",
        "            self.n_words += 1\n",
        "        else:\n",
        "            self.word2count[word] += 1\n",
        "\n",
        "language = Language()\n",
        "for data in [train_questions_pair]:\n",
        "    for question_pair in data:\n",
        "        q1 = question_pair[0]\n",
        "        q2 = question_pair[1]\n",
        "        language.addSentence(q1)\n",
        "        language.addSentence(q2)"
      ],
      "execution_count": 0,
      "outputs": []
    },
    {
      "cell_type": "markdown",
      "metadata": {
        "id": "23Lh5-d4QOdb",
        "colab_type": "text"
      },
      "source": [
        "**Create a dataset class which can be indexed to retrieve Questions Pair along with corresponding Label**"
      ]
    },
    {
      "cell_type": "code",
      "metadata": {
        "id": "kQigzxPUKEPA",
        "colab_type": "code",
        "colab": {}
      },
      "source": [
        "class QuestionsDataset(Dataset):\n",
        "    def __init__(self, questions_list, word2index, labels):\n",
        "        self.questions_list = questions_list\n",
        "        self.labels = labels\n",
        "        self.word2index = word2index\n",
        "        \n",
        "    def __len__(self):\n",
        "        return len(self.questions_list)\n",
        "    \n",
        "    def __getitem__(self, index):\n",
        "        questions_pair = self.questions_list[index]\n",
        "        q1 = questions_pair[0]\n",
        "        q1_indices = []\n",
        "        for word in q1.split():\n",
        "            q1_indices.append(self.word2index[word])\n",
        "            \n",
        "        q2 = question_pair[1]\n",
        "        q2_indices = []\n",
        "        for word in q2.split():\n",
        "            q2_indices.append(self.word2index[word])\n",
        "            \n",
        "        # q1_indices and q2_indices are lists of indices against words used in the sentence \n",
        "        return q1_indices, q2_indices, self.labels[index]\n",
        "    \n",
        "train_dataset = QuestionsDataset(train_questions_pair, language.word2index, train_labels)"
      ],
      "execution_count": 0,
      "outputs": []
    },
    {
      "cell_type": "code",
      "metadata": {
        "id": "OW4ChjLUKIwo",
        "colab_type": "code",
        "outputId": "d45300d7-8756-4981-9ed3-9da4e3e7dc6b",
        "colab": {
          "base_uri": "https://localhost:8080/",
          "height": 33
        }
      },
      "source": [
        "n_vocabulary_words = len(language.word2index)\n",
        "print ('Total Unique Vocabulary Words: ', n_vocabulary_words)"
      ],
      "execution_count": 25,
      "outputs": [
        {
          "output_type": "stream",
          "text": [
            "Total Unique Vocabulary Words:  86001\n"
          ],
          "name": "stdout"
        }
      ]
    },
    {
      "cell_type": "markdown",
      "metadata": {
        "id": "tEBZZgTZSk1C",
        "colab_type": "text"
      },
      "source": [
        "**Custom Collate is implemented to adjust the data in the desired format and calculate lengths which will later be used for padding and packing.**"
      ]
    },
    {
      "cell_type": "code",
      "metadata": {
        "id": "vl1mkUSSKJbe",
        "colab_type": "code",
        "colab": {}
      },
      "source": [
        "class CustomCollate:\n",
        "    def custom_collate(self, batch):\n",
        "\n",
        "        # batch = list of tuples where each tuple is of the form ([i1, i2, i3], [j1, j2, j3], label)\n",
        "        q1_list = []\n",
        "        q2_list = []\n",
        "        labels = []\n",
        "        for training_example in batch:\n",
        "          q1_list.append(training_example[0])\n",
        "          q2_list.append(training_example[1])\n",
        "          labels.append(training_example[2])\n",
        "          \n",
        "        \n",
        "        q1_lengths = [len(q) for q in q1_list]\n",
        "        q2_lengths = [len(q) for q in q2_list]\n",
        "        \n",
        "        return q1_list, q1_lengths, q2_list, q2_lengths, labels\n",
        "\n",
        "    def __call__(self, batch):\n",
        "        return self.custom_collate(batch)"
      ],
      "execution_count": 0,
      "outputs": []
    },
    {
      "cell_type": "markdown",
      "metadata": {
        "id": "q5Rz6D_NSyK-",
        "colab_type": "text"
      },
      "source": [
        "**Split Training Data into Train and Validation Set**"
      ]
    },
    {
      "cell_type": "code",
      "metadata": {
        "id": "iS1mEeNFKOKS",
        "colab_type": "code",
        "outputId": "25383e62-e894-4cd2-84cd-d4662170b540",
        "colab": {
          "base_uri": "https://localhost:8080/",
          "height": 33
        }
      },
      "source": [
        "validation_split = 0.2\n",
        "dataset_size = len(train_dataset)\n",
        "indices = list(range(dataset_size))\n",
        "split = int(np.floor(validation_split * dataset_size))\n",
        "shuffle_dataset = True\n",
        "random_seed = 32\n",
        "\n",
        "if shuffle_dataset :\n",
        "    np.random.seed(random_seed)\n",
        "    np.random.shuffle(indices)\n",
        "train_indices, val_indices = indices[split:], indices[:split]\n",
        "\n",
        "train_sampler = SubsetRandomSampler(train_indices)\n",
        "validation_sampler = SubsetRandomSampler(val_indices)\n",
        "train_loader = torch.utils.data.DataLoader(train_dataset, batch_size=32, sampler=train_sampler, collate_fn=CustomCollate())\n",
        "val_loader = torch.utils.data.DataLoader(train_dataset, batch_size=32, sampler=validation_sampler, collate_fn=CustomCollate())\n",
        "\n",
        "print ('Training Set Size {}, Validation Set Size {}'.format(len(train_indices), len(val_indices)))"
      ],
      "execution_count": 38,
      "outputs": [
        {
          "output_type": "stream",
          "text": [
            "Training Set Size 323416, Validation Set Size 80854\n"
          ],
          "name": "stdout"
        }
      ]
    },
    {
      "cell_type": "markdown",
      "metadata": {
        "id": "4asiGcQPS5-Y",
        "colab_type": "text"
      },
      "source": [
        "**Create Embeding Matrix for the dataset vocabulary using pre-trained Word2Vec Embeddings**"
      ]
    },
    {
      "cell_type": "code",
      "metadata": {
        "id": "zZ96ZAgSKQjl",
        "colab_type": "code",
        "colab": {}
      },
      "source": [
        "# Load pre-trained embeddings from word2vec\n",
        "word2vec_model = gensim.models.KeyedVectors.load_word2vec_format(EMBEDDING_PATH, binary=True)\n",
        "# Convert word2vec embeddings into FloatTensor\n",
        "word2vec_weights = torch.FloatTensor(word2vec_model.vectors)\n",
        "\n",
        "# Create a random weight tensor of the shape (n_vocabulary_words + 1, EMBEDDING_DIMENSION) and place each word's embedding from word2vec at the index assigned to that word\n",
        "# Two key points:\n",
        "# 1. Weights tensor has been initialized randomly so that the words which are part of our dataset vocabulary but are not present in word2vec are given a random embedding\n",
        "# 2. Embedding at 0 index is all zeros. This is the embedding for the padding that we will do for batch processing\n",
        "weights = torch.randn(n_vocabulary_words + 1, EMBEDDING_DIMENSION)\n",
        "weights[0] = torch.zeros(EMBEDDING_DIMENSION)\n",
        "for word, lang_word_index in language.word2index.items():\n",
        "    if word in word2vec_model:\n",
        "        weights[lang_word_index] = torch.FloatTensor(word2vec_model.word_vec(word))\n",
        "\n",
        "del word2vec_model\n",
        "del word2vec_weights"
      ],
      "execution_count": 0,
      "outputs": []
    },
    {
      "cell_type": "markdown",
      "metadata": {
        "id": "JXfiuDHcUOvN",
        "colab_type": "text"
      },
      "source": [
        "**Siamese Network with single LSTM**"
      ]
    },
    {
      "cell_type": "code",
      "metadata": {
        "id": "KrPIO95oKW06",
        "colab_type": "code",
        "colab": {}
      },
      "source": [
        "class SiameseNetwork(nn.Module):\n",
        "    def __init__(self, pretrained_weights):\n",
        "        super(SiameseNetwork, self).__init__()\n",
        "        # Creating embedding object from the pre-trained weights\n",
        "        self.embedding = nn.Embedding.from_pretrained(pretrained_weights)\n",
        "        self.embedding.weight.requires_grad = EMBEDDING_REQUIRES_GRAD\n",
        "        # Create a single LSTM since this is a Siamese Network and the weights are shared\n",
        "        self.lstm = nn.LSTM(input_size=EMBEDDING_DIMENSION, hidden_size=HIDDEN_CELLS, num_layers = NUM_LAYERS, batch_first = True)\n",
        "    \n",
        "    # Manhattan Distance Calculator\n",
        "    def exponent_neg_manhattan_distance(self, x1, x2):\n",
        "        return torch.exp(-torch.sum(torch.abs(x1 - x2), dim=0)).to(device)\n",
        "\n",
        "    def forward_once(self, x, input_lengths):\n",
        "      \n",
        "        # x is of the shape (batch_dim, sequence)\n",
        "        # e.g. x = [\n",
        "        #  [i1, i2, i3],\n",
        "        #  [j1, j2, j3, j4]\n",
        "        # ]\n",
        "        \n",
        "        # input_lengths is the list that contains the sequence lengths for each sequence\n",
        "        # e.g. input_lengths = [3, 4]\n",
        "        \n",
        "        # Reverse sequence lengths indices in decreasing order as per the requirement from PyTorch before Padding and Packing\n",
        "        sorted_indices = np.flipud(np.argsort(input_lengths))\n",
        "        input_lengths = np.flipud(np.sort(input_lengths))\n",
        "        input_lengths = input_lengths.copy() # https://github.com/facebookresearch/InferSent/issues/99\n",
        "        \n",
        "        # Reorder questions in the decreasing order of their lengths\n",
        "        ordered_questions = [torch.LongTensor(x[i]).to(device) for i in sorted_indices]\n",
        "        # Pad sequences with 0s to the max length sequence in the batch\n",
        "        ordered_questions = torch.nn.utils.rnn.pad_sequence(ordered_questions, batch_first=True)\n",
        "        # Retrieve Embeddings\n",
        "        embeddings = self.embedding(ordered_questions).to(device)\n",
        "        # Pack the padded sequences and pass it through LSTM\n",
        "        packed = torch.nn.utils.rnn.pack_padded_sequence(embeddings, input_lengths, batch_first=True)\n",
        "        out, (hn, cn) = self.lstm(packed)\n",
        "        unpacked, unpacked_len = torch.nn.utils.rnn.pad_packed_sequence(out, batch_first=True, total_length=int(input_lengths[0]))\n",
        "        \n",
        "        # The following step reorders the calculated activations to the original order in which questions were passed\n",
        "        result = torch.FloatTensor(unpacked.size())\n",
        "        for i, encoded_matrix in enumerate(unpacked):\n",
        "            result[sorted_indices[i]] = encoded_matrix\n",
        "        return result\n",
        "\n",
        "    def forward(self, q1, q1_lengths, q2, q2_lengths):\n",
        "        output1 = self.forward_once(q1, q1_lengths)\n",
        "        output2 = self.forward_once(q2, q2_lengths)\n",
        "        similarity_score = torch.zeros(output1.size()[0]).to(device)\n",
        "        # Calculate Similarity Score between both questions in a single pair\n",
        "        for index in range(output1.size()[0]):\n",
        "            # Sequence lenghts are being used to index and retrieve the activations before the zero padding since they were not part of original question\n",
        "            q1 = output1[index, q1_lengths[index] - 1, :]\n",
        "            q2 = output2[index, q2_lengths[index] - 1, :]\n",
        "            similarity_score[index] = self.exponent_neg_manhattan_distance(q1, q2)\n",
        "        return similarity_score\n",
        "    \n",
        "model = SiameseNetwork(weights).to(device)"
      ],
      "execution_count": 0,
      "outputs": []
    },
    {
      "cell_type": "markdown",
      "metadata": {
        "id": "VVGXZEeIWG2C",
        "colab_type": "text"
      },
      "source": [
        "**Create a Loss function and an Optimizer. In this case, we have created Mean Squared Error as our Loss function and Adam as an Optimizer.**"
      ]
    },
    {
      "cell_type": "code",
      "metadata": {
        "id": "ttT0CLSBKZYt",
        "colab_type": "code",
        "colab": {}
      },
      "source": [
        "criterion = nn.MSELoss()\n",
        "optimizer = torch.optim.Adam(model.parameters(), lr = 0.01 )\n",
        "num_epochs = 50"
      ],
      "execution_count": 0,
      "outputs": []
    },
    {
      "cell_type": "markdown",
      "metadata": {
        "id": "qn8rNRAlXFV8",
        "colab_type": "text"
      },
      "source": [
        "**Let's train the model !!!**"
      ]
    },
    {
      "cell_type": "code",
      "metadata": {
        "id": "xNjVT6M2KcM3",
        "colab_type": "code",
        "colab": {}
      },
      "source": [
        "total_step = len(train_loader)\n",
        "# Threshold 0.5. Since similarity score will be a value between 0 and 1, we will consider all question pair with values greater than threshold as Duplicate\n",
        "threshold = torch.Tensor([0.5]).to(device)\n",
        "\n",
        "for epoch in range(num_epochs):\n",
        "    loss_history = []\n",
        "    model.train(True)\n",
        "    train_correct_total = 0\n",
        "    for i, (q1_batch, q1_batch_lengths, q2_batch, q2_batch_lengths, labels) in enumerate(train_loader):\n",
        "\n",
        "        labels = torch.FloatTensor(labels).to(device)\n",
        "        \n",
        "        # Clear grads\n",
        "        optimizer.zero_grad()\n",
        "        \n",
        "        # Run the forward pass\n",
        "        similarity_score = model(q1_batch, q1_batch_lengths, q2_batch, q2_batch_lengths)\n",
        "        predictions = (similarity_score > threshold).float() * 1\n",
        "        total = labels.size()[0]\n",
        "        correct = (predictions == labels).sum().item()\n",
        "        train_correct_total += correct\n",
        "        \n",
        "        # Calculate Loss\n",
        "        loss = criterion(similarity_score, labels)\n",
        "        \n",
        "        # Calculate gradients\n",
        "        loss.backward()\n",
        "        \n",
        "        # Update weights\n",
        "        optimizer.step()\n",
        "        \n",
        "        if (i + 1) % 100 == 0:\n",
        "            loss_history.append(loss.item())\n",
        "            print('Epoch [{}/{}], Step [{}/{}], Loss: {:.4f}, Accuracy: {:.4f}'.format(epoch + 1, num_epochs, i + 1, total_step, np.mean(loss_history), (correct / total) * 100))\n",
        "            \n",
        "    print('Training Loss: {:.4f}, Training Accuracy: {:.4f}'.format(np.mean(loss_history), (train_correct_total / len(train_indices)) * 100))\n",
        "    \n",
        "    model.train(False)\n",
        "    val_correct_total = 0\n",
        "    with torch.no_grad():\n",
        "        for i, (q1_batch, q1_batch_lengths, q2_batch, q2_batch_lengths, labels) in enumerate(val_loader):\n",
        "\n",
        "            labels = torch.FloatTensor(labels).to(device)\n",
        "\n",
        "            similarity_score = model(q1_batch, q1_batch_lengths, q2_batch, q2_batch_lengths)\n",
        "            predictions = (similarity_score > threshold).float() * 1\n",
        "            total = labels.size()[0]\n",
        "            correct = (predictions == labels).sum().item()\n",
        "            val_correct_total += correct\n",
        "        \n",
        "        avg_acc_val =  val_correct_total * 100 / len(val_indices)\n",
        "        print ('Validation Set Size {}, Correct in Validation {}, Validation Accuracy {:.2f}%'.format(len(val_indices), val_correct_total, avg_acc_val))\n"
      ],
      "execution_count": 0,
      "outputs": []
    },
    {
      "cell_type": "code",
      "metadata": {
        "id": "PHquE4zuYc5q",
        "colab_type": "code",
        "colab": {}
      },
      "source": [
        ""
      ],
      "execution_count": 0,
      "outputs": []
    }
  ]
}
